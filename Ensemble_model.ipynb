{
 "cells": [
  {
   "cell_type": "code",
   "execution_count": 1,
   "metadata": {
    "collapsed": true
   },
   "outputs": [],
   "source": [
    "import torch\n",
    "import torch.nn as nn\n",
    "import torch.nn.functional as F\n",
    "import torch.optim as optim\n",
    "from torch.autograd import Variable\n",
    "from torchvision.datasets import ImageFolder\n",
    "from torch.utils.data import DataLoader\n",
    "from torchvision.utils import save_image\n",
    "from torchvision import transforms, models, datasets\n",
    "import torchvision\n",
    "import numpy as np\n",
    "import h5py\n",
    "from matplotlib import pyplot as plt\n",
    "from Utils import save_large_dataset, load_large_dataset, calculate_metric\n",
    "plt.ion()   # interactive mode"
   ]
  },
  {
   "cell_type": "code",
   "execution_count": 2,
   "metadata": {
    "collapsed": true
   },
   "outputs": [],
   "source": [
    "X = load_large_dataset('images')\n",
    "Y = load_large_dataset('labels')"
   ]
  },
  {
   "cell_type": "code",
   "execution_count": 3,
   "metadata": {
    "collapsed": false
   },
   "outputs": [
    {
     "name": "stdout",
     "output_type": "stream",
     "text": [
      "(1792, 121, 145, 121)\n"
     ]
    }
   ],
   "source": [
    "X = X.squeeze() #remove unnecessary dimension\n",
    "Y = Y.squeeze()\n",
    "print (X.shape)"
   ]
  },
  {
   "cell_type": "code",
   "execution_count": 4,
   "metadata": {
    "collapsed": false
   },
   "outputs": [],
   "source": [
    "list_classifiers = [\"1_36_39\", \"2_31_34\", \"1_60_63\", \"1_75_78\", \"2_46_49\",\n",
    "                    \"2_55_58\", \"3_13_16\", \"3_19_22\", \"3_31_34\", \"3_55_58\", \"2_40_43\"]"
   ]
  },
  {
   "cell_type": "code",
   "execution_count": 5,
   "metadata": {
    "collapsed": false
   },
   "outputs": [
    {
     "data": {
      "text/plain": [
       "VGG(\n",
       "  (features): Sequential(\n",
       "    (0): Conv2d(3, 64, kernel_size=(3, 3), stride=(1, 1), padding=(1, 1))\n",
       "    (1): BatchNorm2d(64, eps=1e-05, momentum=0.1, affine=True)\n",
       "    (2): ReLU(inplace)\n",
       "    (3): MaxPool2d(kernel_size=(2, 2), stride=(2, 2), dilation=(1, 1), ceil_mode=False)\n",
       "    (4): Conv2d(64, 128, kernel_size=(3, 3), stride=(1, 1), padding=(1, 1))\n",
       "    (5): BatchNorm2d(128, eps=1e-05, momentum=0.1, affine=True)\n",
       "    (6): ReLU(inplace)\n",
       "    (7): MaxPool2d(kernel_size=(2, 2), stride=(2, 2), dilation=(1, 1), ceil_mode=False)\n",
       "    (8): Conv2d(128, 256, kernel_size=(3, 3), stride=(1, 1), padding=(1, 1))\n",
       "    (9): BatchNorm2d(256, eps=1e-05, momentum=0.1, affine=True)\n",
       "    (10): ReLU(inplace)\n",
       "    (11): Conv2d(256, 256, kernel_size=(3, 3), stride=(1, 1), padding=(1, 1))\n",
       "    (12): BatchNorm2d(256, eps=1e-05, momentum=0.1, affine=True)\n",
       "    (13): ReLU(inplace)\n",
       "    (14): MaxPool2d(kernel_size=(2, 2), stride=(2, 2), dilation=(1, 1), ceil_mode=False)\n",
       "    (15): Conv2d(256, 512, kernel_size=(3, 3), stride=(1, 1), padding=(1, 1))\n",
       "    (16): BatchNorm2d(512, eps=1e-05, momentum=0.1, affine=True)\n",
       "    (17): ReLU(inplace)\n",
       "    (18): Conv2d(512, 512, kernel_size=(3, 3), stride=(1, 1), padding=(1, 1))\n",
       "    (19): BatchNorm2d(512, eps=1e-05, momentum=0.1, affine=True)\n",
       "    (20): ReLU(inplace)\n",
       "    (21): MaxPool2d(kernel_size=(2, 2), stride=(2, 2), dilation=(1, 1), ceil_mode=False)\n",
       "    (22): Conv2d(512, 512, kernel_size=(3, 3), stride=(1, 1), padding=(1, 1))\n",
       "    (23): BatchNorm2d(512, eps=1e-05, momentum=0.1, affine=True)\n",
       "    (24): ReLU(inplace)\n",
       "    (25): Conv2d(512, 512, kernel_size=(3, 3), stride=(1, 1), padding=(1, 1))\n",
       "    (26): BatchNorm2d(512, eps=1e-05, momentum=0.1, affine=True)\n",
       "    (27): ReLU(inplace)\n",
       "    (28): MaxPool2d(kernel_size=(2, 2), stride=(2, 2), dilation=(1, 1), ceil_mode=False)\n",
       "  )\n",
       "  (classifier): Sequential(\n",
       "    (0): Linear(in_features=25088, out_features=4096, bias=True)\n",
       "    (1): ReLU(inplace)\n",
       "    (2): Dropout(p=0.5)\n",
       "    (3): Linear(in_features=4096, out_features=4096, bias=True)\n",
       "    (4): ReLU(inplace)\n",
       "    (5): Dropout(p=0.5)\n",
       "    (6): Linear(in_features=4096, out_features=2, bias=True)\n",
       "  )\n",
       ")"
      ]
     },
     "execution_count": 5,
     "metadata": {},
     "output_type": "execute_result"
    }
   ],
   "source": [
    "net = models.vgg11_bn()\n",
    "net.classifier._modules['6'] = nn.Linear(4096, 2)\n",
    "net.cuda()\n",
    "net.eval()"
   ]
  },
  {
   "cell_type": "code",
   "execution_count": 6,
   "metadata": {
    "collapsed": false
   },
   "outputs": [],
   "source": [
    "np.random.seed(0) #seed is the same as used in the training phase\n",
    "mask = np.random.rand(len(X)) < 0.9  #array of boolean variables\n",
    "validation_set = X[~mask]\n",
    "validation_labels = Y[~mask]"
   ]
  },
  {
   "cell_type": "code",
   "execution_count": 7,
   "metadata": {
    "collapsed": false
   },
   "outputs": [
    {
     "name": "stdout",
     "output_type": "stream",
     "text": [
      "Reported metric is (sensitivity + specificity)/2\n",
      "\n",
      "Classifier 1_36_39: 0.6511\n",
      "Classifier 2_31_34: 0.6295\n",
      "Classifier 1_60_63: 0.6223\n",
      "Classifier 1_75_78: 0.6319\n",
      "Classifier 2_46_49: 0.6353\n",
      "Classifier 2_55_58: 0.6168\n",
      "Classifier 3_13_16: 0.6195\n",
      "Classifier 3_19_22: 0.6356\n",
      "Classifier 3_31_34: 0.6429\n",
      "Classifier 3_55_58: 0.6765\n",
      "Classifier 2_40_43: 0.6676\n",
      "----------\n",
      "Metric of Ensemble Model 0.6961\n",
      "Accuracy of Ensemble Model: 0.7044\n"
     ]
    }
   ],
   "source": [
    "print ('Reported metric is (sensitivity + specificity)/2\\n')\n",
    "aggregated_preds = np.zeros(len(validation_set))\n",
    "\n",
    "for i in range(len(list_classifiers)):\n",
    "\n",
    "    axis = int(list_classifiers[i].split(\"_\")[0])\n",
    "    start_index = int(list_classifiers[i].split(\"_\")[1])\n",
    "    end_index = int(list_classifiers[i].split(\"_\")[2])\n",
    "    \n",
    "    if (axis==1):\n",
    "        X_sliced = X[:,start_index:end_index,:,:] #take only 3 slices and treat them as channels\n",
    "        X_padded = np.pad(X_sliced,((0,0),(0,0),(40,39),(51,52)), 'constant') #pad with zeros to get 224x224\n",
    "        X_padded = np.float32(X_padded)\n",
    "        X_padded = np.rollaxis(X_padded, axis, 1) #move channel dimension to be the first one\n",
    "    \n",
    "    if (axis==2):\n",
    "        X_sliced = X[:,:,start_index:end_index,:] #take only 3 slices and treat them as channels\n",
    "        X_padded = np.pad(X_sliced,((0,0),(51,52),(0,0),(51,52)), 'constant') #pad with zeros to get 224x224\n",
    "        X_padded = np.float32(X_padded)\n",
    "        X_padded = np.rollaxis(X_padded, axis, 1) #move channel dimension to be the first one\n",
    "        \n",
    "    if (axis==3):\n",
    "        X_sliced = X[:,:,:,start_index:end_index] #take only 3 slices and treat them as channels\n",
    "        X_padded = np.pad(X_sliced,((0,0),(51,52),(40,39),(0,0)), 'constant') #pad with zeros to get 224x224\n",
    "        X_padded = np.float32(X_padded)\n",
    "        X_padded = np.rollaxis(X_padded, axis, 1) #move channel dimension to be the first one\n",
    "        \n",
    "    np.random.seed(0) #seed is the same as used in the training phase\n",
    "    mask = np.random.rand(len(X)) < 0.9  #array of boolean variables\n",
    "    validation_set = X_padded[~mask]\n",
    "    validation_labels = Y[~mask]\n",
    "    validation_set = torch.from_numpy(validation_set) #convert to torch tensor\n",
    "\n",
    "    net.load_state_dict(torch.load(\"./trained_classifiers/\" + list_classifiers[i] + \".pt\")) #loading weights\n",
    "    \n",
    "    preds = np.zeros((len(validation_set)))\n",
    "    for z in range(len(validation_set)):\n",
    "        output = net(Variable(validation_set[z].unsqueeze(0).cuda()))\n",
    "        _, preds[z] = torch.max(output.data.cpu(), 1)\n",
    "        aggregated_preds[z] += preds[z]\n",
    "    \n",
    "    print ('Classifier ' + list_classifiers[i] + ': {:.4f}'.format(calculate_metric(preds,validation_labels)))\n",
    "\n",
    "ensemble_preds = (aggregated_preds/len(list_classifiers))\n",
    "ensemble_preds = np.rint(ensemble_preds) #round to closest integer (0 or 1)\n",
    "print (\"----------\")\n",
    "print ('Metric of Ensemble Model {:.4f}'.format(calculate_metric(ensemble_preds,validation_labels)))\n",
    "accuracy = (np.count_nonzero(ensemble_preds==validation_labels))/len(validation_labels)\n",
    "print ('Accuracy of Ensemble Model: {:.4f}'.format(accuracy))"
   ]
  }
 ],
 "metadata": {
  "anaconda-cloud": {},
  "kernelspec": {
   "display_name": "Python [conda root]",
   "language": "python",
   "name": "conda-root-py"
  },
  "language_info": {
   "codemirror_mode": {
    "name": "ipython",
    "version": 3
   },
   "file_extension": ".py",
   "mimetype": "text/x-python",
   "name": "python",
   "nbconvert_exporter": "python",
   "pygments_lexer": "ipython3",
   "version": "3.5.2"
  }
 },
 "nbformat": 4,
 "nbformat_minor": 1
}
