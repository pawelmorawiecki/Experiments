{
 "cells": [
  {
   "cell_type": "code",
   "execution_count": 1,
   "metadata": {
    "collapsed": true
   },
   "outputs": [],
   "source": [
    "import torch\n",
    "import torch.nn as nn\n",
    "import torch.nn.functional as F\n",
    "import torch.optim as optim\n",
    "from torch.autograd import Variable\n",
    "from torchvision.datasets import ImageFolder\n",
    "from torch.utils.data import DataLoader\n",
    "from torchvision.utils import save_image\n",
    "from torchvision import transforms, models, datasets\n",
    "import torchvision\n",
    "import numpy as np\n",
    "import h5py\n",
    "from matplotlib import pyplot as plt\n",
    "from skimage.transform import resize\n",
    "from Utils import save_large_dataset, load_large_dataset, calculate_metric\n",
    "plt.ion()   # interactive mode"
   ]
  },
  {
   "cell_type": "code",
   "execution_count": 2,
   "metadata": {
    "collapsed": true
   },
   "outputs": [],
   "source": [
    "CUDA = True"
   ]
  },
  {
   "cell_type": "code",
   "execution_count": 3,
   "metadata": {
    "collapsed": true
   },
   "outputs": [],
   "source": [
    "X = load_large_dataset('images')\n",
    "Y = load_large_dataset('labels')"
   ]
  },
  {
   "cell_type": "code",
   "execution_count": 4,
   "metadata": {
    "collapsed": false
   },
   "outputs": [
    {
     "name": "stdout",
     "output_type": "stream",
     "text": [
      "(1792, 121, 145, 3)\n",
      "(1792,)\n"
     ]
    }
   ],
   "source": [
    "X = X.squeeze() #remove unnecessary dimension\n",
    "Y = Y.squeeze()\n",
    "\n",
    "X = X[:,:,:,58:61] #take only 3 slices and treat them as channels\n",
    "\n",
    "print (X.shape)\n",
    "print (Y.shape)"
   ]
  },
  {
   "cell_type": "code",
   "execution_count": 5,
   "metadata": {
    "collapsed": false
   },
   "outputs": [],
   "source": [
    "X_padded = np.pad(X,((0,0),(51,52),(40,39),(0,0)), 'constant') #pad with zeros to get 224x224 dimension of images\n",
    "X = X_padded\n",
    "X = np.float32(X)"
   ]
  },
  {
   "cell_type": "code",
   "execution_count": 6,
   "metadata": {
    "collapsed": false
   },
   "outputs": [
    {
     "name": "stdout",
     "output_type": "stream",
     "text": [
      "(1792, 3, 224, 224)\n"
     ]
    }
   ],
   "source": [
    "X = np.rollaxis(X, 3, 1) #move channel dimension to be the first one\n",
    "print (X.shape)"
   ]
  },
  {
   "cell_type": "code",
   "execution_count": 7,
   "metadata": {
    "collapsed": true
   },
   "outputs": [],
   "source": [
    "np.random.seed(9999) #seed fixed for reproducibility\n",
    "mask = np.random.rand(len(X)) < 0.9  #array of boolean variables\n",
    "\n",
    "training_set = X[mask]\n",
    "training_labels = Y[mask]\n",
    "\n",
    "validation_set = X[~mask]\n",
    "validation_labels = Y[~mask]"
   ]
  },
  {
   "cell_type": "code",
   "execution_count": 8,
   "metadata": {
    "collapsed": true
   },
   "outputs": [],
   "source": [
    "BATCH_SIZE = 64"
   ]
  },
  {
   "cell_type": "code",
   "execution_count": 9,
   "metadata": {
    "collapsed": true
   },
   "outputs": [],
   "source": [
    "training_set = torch.from_numpy(training_set) #convert to torch tensor\n",
    "training_labels = torch.from_numpy(training_labels) #convert to torch tensor"
   ]
  },
  {
   "cell_type": "code",
   "execution_count": 10,
   "metadata": {
    "collapsed": false
   },
   "outputs": [],
   "source": [
    "validation_set = torch.from_numpy(validation_set) #convert to torch tensor\n",
    "validation_labels = torch.from_numpy(validation_labels) #convert to torch tensor"
   ]
  },
  {
   "cell_type": "code",
   "execution_count": 11,
   "metadata": {
    "collapsed": true
   },
   "outputs": [],
   "source": [
    "training_labels = training_labels.long()"
   ]
  },
  {
   "cell_type": "code",
   "execution_count": 12,
   "metadata": {
    "collapsed": true
   },
   "outputs": [],
   "source": [
    "validation_labels = validation_labels.long()"
   ]
  },
  {
   "cell_type": "code",
   "execution_count": 13,
   "metadata": {
    "collapsed": false
   },
   "outputs": [
    {
     "name": "stdout",
     "output_type": "stream",
     "text": [
      "torch.Size([1637])\n",
      "torch.Size([155])\n"
     ]
    }
   ],
   "source": [
    "print (training_labels.shape)\n",
    "print (validation_labels.shape)"
   ]
  },
  {
   "cell_type": "code",
   "execution_count": 14,
   "metadata": {
    "collapsed": true
   },
   "outputs": [],
   "source": [
    "dataset = torch.utils.data.TensorDataset(training_set, training_labels)\n",
    "train_loader = DataLoader(dataset, batch_size=BATCH_SIZE, shuffle=True)"
   ]
  },
  {
   "cell_type": "code",
   "execution_count": 15,
   "metadata": {
    "collapsed": true
   },
   "outputs": [],
   "source": [
    "val_set = torch.utils.data.TensorDataset(validation_set, validation_labels)\n",
    "validation_loader = DataLoader(val_set, batch_size=BATCH_SIZE, shuffle=True)"
   ]
  },
  {
   "cell_type": "markdown",
   "metadata": {},
   "source": [
    "# Model definition\n"
   ]
  },
  {
   "cell_type": "code",
   "execution_count": 16,
   "metadata": {
    "collapsed": false
   },
   "outputs": [],
   "source": [
    "# RESNET_18 model, with pretrained weights and fine-tuned to 2 classes\n",
    "net = models.resnet18(pretrained=True)\n",
    "num_ftrs = net.fc.in_features\n",
    "net.fc = nn.Linear(num_ftrs, 2)\n",
    "\n",
    "# VGG_11 model with pretrained weights and fine-tuned to 2 classes\n",
    "#net = models.vgg11_bn(pretrained=True)\n",
    "#net.classifier._modules['6'] = nn.Linear(4096, 2)\n",
    "\n",
    "criterion = nn.CrossEntropyLoss()"
   ]
  },
  {
   "cell_type": "code",
   "execution_count": 17,
   "metadata": {
    "collapsed": false
   },
   "outputs": [],
   "source": [
    "if (CUDA):\n",
    "    net.cuda()"
   ]
  },
  {
   "cell_type": "code",
   "execution_count": 18,
   "metadata": {
    "collapsed": true
   },
   "outputs": [],
   "source": [
    "optimizer = optim.Adam(net.parameters(), lr=0.0001, weight_decay=1e-3)"
   ]
  },
  {
   "cell_type": "markdown",
   "metadata": {},
   "source": [
    "# Training"
   ]
  },
  {
   "cell_type": "code",
   "execution_count": 19,
   "metadata": {
    "collapsed": false
   },
   "outputs": [
    {
     "name": "stdout",
     "output_type": "stream",
     "text": [
      "Loss: 0.6914 Metric: 0.5288\n",
      "Validation Loss: 1.1550 Validation Metric: 0.5000\n",
      "Loss: 0.5197 Metric: 0.7336\n",
      "Validation Loss: 0.7237 Validation Metric: 0.5199\n",
      "Loss: 0.2943 Metric: 0.9439\n",
      "Validation Loss: 0.9040 Validation Metric: 0.4808\n",
      "Loss: 0.1105 Metric: 0.9773\n",
      "Validation Loss: 1.3446 Validation Metric: 0.6333\n",
      "Loss: 0.0534 Metric: 0.9444\n",
      "Validation Loss: 2.1948 Validation Metric: 0.5659\n",
      "Loss: 0.0521 Metric: 0.9643\n",
      "Validation Loss: 2.1077 Validation Metric: 0.5659\n",
      "Loss: 0.0854 Metric: 0.9318\n",
      "Validation Loss: 3.5628 Validation Metric: 0.5312\n",
      "Loss: 0.0866 Metric: 0.9667\n",
      "Validation Loss: 1.5689 Validation Metric: 0.5618\n",
      "Loss: 0.0508 Metric: 1.0000\n",
      "Validation Loss: 1.6082 Validation Metric: 0.6264\n",
      "Loss: 0.0321 Metric: 0.9615\n",
      "Validation Loss: 2.0256 Validation Metric: 0.6538\n",
      "Finished Training\n"
     ]
    }
   ],
   "source": [
    "for epoch in range(10):  \n",
    "    \n",
    "    net.train()\n",
    "    running_loss = 0.0\n",
    "    running_corrects = 0.0\n",
    "    for i, data in enumerate(train_loader, 0):\n",
    "        # get the inputs\n",
    "        inputs, labels = data\n",
    "\n",
    "        # wrap them in Variable\n",
    "        if (CUDA):\n",
    "            inputs, labels = Variable(inputs.cuda()), Variable(labels.cuda())\n",
    "        else:\n",
    "            inputs, labels = Variable(inputs), Variable(labels)\n",
    "\n",
    "        # zero the parameter gradients\n",
    "        optimizer.zero_grad()\n",
    "\n",
    "        # forward + backward + optimize\n",
    "        outputs = net(inputs)\n",
    "        _, preds = torch.max(outputs.data, 1)\n",
    "        loss = criterion(outputs, labels)\n",
    "       \n",
    "        loss.backward()\n",
    "        optimizer.step()\n",
    "\n",
    "        # statistics\n",
    "        running_loss += loss.data[0] * inputs.size(0)\n",
    "        running_corrects += torch.sum(preds == labels.data)\n",
    "\n",
    "    epoch_loss = running_loss / len(training_set)\n",
    "    #epoch_acc = running_corrects / len(training_set)\n",
    "    metric = calculate_metric(preds,labels.data)\n",
    "    print('Loss: {:.4f} Metric: {:.4f}'.format(epoch_loss, metric))\n",
    "\n",
    "    #VALIDATION\n",
    "    running_loss = 0.0\n",
    "    running_corrects = 0.0\n",
    "    net.eval() #set in the evaluation mode (important for Dropout and Batchnorm)\n",
    "    \n",
    "    for j, val_data in enumerate(validation_loader, 0):\n",
    "        # get the inputs\n",
    "        val_inputs, val_labels = val_data\n",
    "\n",
    "        # wrap them in Variable\n",
    "        if (CUDA):\n",
    "            val_inputs, val_labels = Variable(val_inputs.cuda()), Variable(val_labels.cuda())\n",
    "        else:\n",
    "            val_inputs, val_labels = Variable(val_inputs), Variable(val_labels)\n",
    "\n",
    "        outputs = net(val_inputs)\n",
    "        _, preds = torch.max(outputs.data, 1)\n",
    "        loss = criterion(outputs, val_labels)\n",
    "\n",
    "        # statistics\n",
    "        running_loss += loss.data[0] * val_inputs.size(0)\n",
    "        running_corrects += torch.sum(preds == val_labels.data)\n",
    "\n",
    "    val_epoch_loss = running_loss / len(validation_set)\n",
    "    #val_epoch_acc = running_corrects / len(validation_set)\n",
    "    metric = calculate_metric(preds,val_labels.data)\n",
    "    print('Validation Loss: {:.4f} Validation Metric: {:.4f}'.format(val_epoch_loss, metric))\n",
    "    \n",
    "print('Finished Training')"
   ]
  },
  {
   "cell_type": "markdown",
   "metadata": {
    "collapsed": true
   },
   "source": [
    "# Traininig on augmented set"
   ]
  },
  {
   "cell_type": "code",
   "execution_count": 20,
   "metadata": {
    "collapsed": true
   },
   "outputs": [],
   "source": [
    "X = load_large_dataset('augmented_train_set_1')\n",
    "Y = load_large_dataset('augmented_train_set_labels_1')"
   ]
  },
  {
   "cell_type": "code",
   "execution_count": 21,
   "metadata": {
    "collapsed": false
   },
   "outputs": [
    {
     "name": "stdout",
     "output_type": "stream",
     "text": [
      "(8185, 3, 121, 145)\n",
      "(8185,)\n"
     ]
    }
   ],
   "source": [
    "print (X.shape)\n",
    "print (Y.shape)"
   ]
  },
  {
   "cell_type": "code",
   "execution_count": 22,
   "metadata": {
    "collapsed": true
   },
   "outputs": [],
   "source": [
    "X_padded = np.pad(X,((0,0),(0,0),(51,52),(40,39)), 'constant') #pad with zeros to get 224x224 dimension of images\n",
    "X = X_padded\n",
    "X = np.float32(X)"
   ]
  },
  {
   "cell_type": "code",
   "execution_count": 23,
   "metadata": {
    "collapsed": true
   },
   "outputs": [],
   "source": [
    "training_set = torch.from_numpy(X) #convert to torch tensor\n",
    "training_labels = torch.from_numpy(Y) #convert to torch tensor"
   ]
  },
  {
   "cell_type": "code",
   "execution_count": 24,
   "metadata": {
    "collapsed": true
   },
   "outputs": [],
   "source": [
    "training_labels = training_labels.long()"
   ]
  },
  {
   "cell_type": "code",
   "execution_count": 25,
   "metadata": {
    "collapsed": true
   },
   "outputs": [],
   "source": [
    "dataset = torch.utils.data.TensorDataset(training_set, training_labels)\n",
    "train_loader = DataLoader(dataset, batch_size=BATCH_SIZE, shuffle=True)"
   ]
  },
  {
   "cell_type": "markdown",
   "metadata": {},
   "source": [
    "# Model definition"
   ]
  },
  {
   "cell_type": "code",
   "execution_count": 26,
   "metadata": {
    "collapsed": true
   },
   "outputs": [],
   "source": [
    "# RESNET_18 model, with pretrained weights and fine-tuned to 2 classes\n",
    "net = models.resnet18(pretrained=True)\n",
    "num_ftrs = net.fc.in_features\n",
    "net.fc = nn.Linear(num_ftrs, 2)\n",
    "\n",
    "# VGG_11 model with pretrained weights and fine-tuned to 2 classes\n",
    "#net = models.vgg11_bn(pretrained=True)\n",
    "#net.classifier._modules['6'] = nn.Linear(4096, 2)\n",
    "\n",
    "criterion = nn.CrossEntropyLoss()"
   ]
  },
  {
   "cell_type": "code",
   "execution_count": 27,
   "metadata": {
    "collapsed": true
   },
   "outputs": [],
   "source": [
    "if (CUDA):\n",
    "    net.cuda()"
   ]
  },
  {
   "cell_type": "code",
   "execution_count": 28,
   "metadata": {
    "collapsed": true
   },
   "outputs": [],
   "source": [
    "optimizer = optim.Adam(net.parameters(), lr=0.0001, weight_decay=1e-3)"
   ]
  },
  {
   "cell_type": "code",
   "execution_count": 29,
   "metadata": {
    "collapsed": false
   },
   "outputs": [
    {
     "name": "stdout",
     "output_type": "stream",
     "text": [
      "Loss: 0.6585 Metric: 0.6357\n",
      "Validation Loss: 0.8189 Validation Metric: 0.5000\n",
      "Loss: 0.6453 Metric: 0.5471\n",
      "Validation Loss: 0.7595 Validation Metric: 0.5483\n",
      "Loss: 0.6359 Metric: 0.6350\n",
      "Validation Loss: 0.7920 Validation Metric: 0.6108\n",
      "Loss: 0.6344 Metric: 0.5037\n",
      "Validation Loss: 0.9421 Validation Metric: 0.5278\n",
      "Loss: 0.6256 Metric: 0.6761\n",
      "Validation Loss: 1.0757 Validation Metric: 0.5714\n",
      "Loss: 0.6242 Metric: 0.5550\n",
      "Validation Loss: 0.9415 Validation Metric: 0.5382\n",
      "Loss: 0.6208 Metric: 0.6316\n",
      "Validation Loss: 0.7787 Validation Metric: 0.6735\n",
      "Loss: 0.6165 Metric: 0.6272\n",
      "Validation Loss: 0.7297 Validation Metric: 0.4382\n",
      "Loss: 0.6109 Metric: 0.7779\n",
      "Validation Loss: 0.7498 Validation Metric: 0.4801\n",
      "Loss: 0.6091 Metric: 0.6095\n",
      "Validation Loss: 0.7434 Validation Metric: 0.5167\n",
      "Loss: 0.6018 Metric: 0.7324\n",
      "Validation Loss: 0.8833 Validation Metric: 0.5735\n",
      "Loss: 0.5944 Metric: 0.6845\n",
      "Validation Loss: 0.8249 Validation Metric: 0.4618\n",
      "Loss: 0.5878 Metric: 0.6299\n",
      "Validation Loss: 0.9309 Validation Metric: 0.4375\n",
      "Loss: 0.5870 Metric: 0.6259\n",
      "Validation Loss: 0.8698 Validation Metric: 0.5824\n",
      "Loss: 0.5797 Metric: 0.7717\n",
      "Validation Loss: 1.2205 Validation Metric: 0.5417\n",
      "Loss: 0.5755 Metric: 0.5906\n",
      "Validation Loss: 0.8608 Validation Metric: 0.6000\n",
      "Loss: 0.5677 Metric: 0.6759\n",
      "Validation Loss: 1.2423 Validation Metric: 0.4444\n",
      "Loss: 0.5612 Metric: 0.7637\n",
      "Validation Loss: 0.9937 Validation Metric: 0.4451\n",
      "Loss: 0.5518 Metric: 0.7321\n",
      "Validation Loss: 1.0282 Validation Metric: 0.6643\n",
      "Loss: 0.5422 Metric: 0.6331\n",
      "Validation Loss: 2.4423 Validation Metric: 0.5000\n",
      "Loss: 0.5360 Metric: 0.6941\n",
      "Validation Loss: 1.3738 Validation Metric: 0.5278\n",
      "Loss: 0.5228 Metric: 0.7304\n",
      "Validation Loss: 1.2060 Validation Metric: 0.5284\n",
      "Loss: 0.5483 Metric: 0.7148\n",
      "Validation Loss: 0.8518 Validation Metric: 0.4500\n",
      "Loss: 0.5238 Metric: 0.6611\n",
      "Validation Loss: 1.6110 Validation Metric: 0.4341\n",
      "Loss: 0.5206 Metric: 0.8158\n",
      "Validation Loss: 1.9937 Validation Metric: 0.5455\n",
      "Loss: 0.5074 Metric: 0.7506\n",
      "Validation Loss: 1.5328 Validation Metric: 0.4083\n",
      "Loss: 0.4973 Metric: 0.8201\n",
      "Validation Loss: 1.7216 Validation Metric: 0.4313\n",
      "Loss: 0.4878 Metric: 0.7008\n",
      "Validation Loss: 1.6634 Validation Metric: 0.5522\n",
      "Loss: 0.4895 Metric: 0.6619\n",
      "Validation Loss: 1.6052 Validation Metric: 0.5852\n",
      "Loss: 0.4847 Metric: 0.7105\n",
      "Validation Loss: 2.0514 Validation Metric: 0.4912\n",
      "Loss: 0.4638 Metric: 0.7284\n",
      "Validation Loss: 2.9893 Validation Metric: 0.4474\n",
      "Loss: 0.4718 Metric: 0.8056\n",
      "Validation Loss: 2.6625 Validation Metric: 0.4643\n",
      "Loss: 0.4641 Metric: 0.7401\n",
      "Validation Loss: 1.8742 Validation Metric: 0.6648\n",
      "Loss: 0.4581 Metric: 0.8688\n",
      "Validation Loss: 1.8792 Validation Metric: 0.4830\n",
      "Loss: 0.4498 Metric: 0.7148\n",
      "Validation Loss: 2.9049 Validation Metric: 0.6111\n",
      "Loss: 0.4475 Metric: 0.7584\n",
      "Validation Loss: 3.4412 Validation Metric: 0.5000\n",
      "Loss: 0.4443 Metric: 0.7078\n",
      "Validation Loss: 2.0025 Validation Metric: 0.4735\n",
      "Loss: 0.4285 Metric: 0.7196\n",
      "Validation Loss: 3.3263 Validation Metric: 0.5797\n",
      "Loss: 0.4295 Metric: 0.7765\n",
      "Validation Loss: 3.2004 Validation Metric: 0.5294\n",
      "Loss: 0.4201 Metric: 0.7330\n",
      "Validation Loss: 1.8585 Validation Metric: 0.5000\n",
      "Loss: 0.4190 Metric: 0.6973\n",
      "Validation Loss: 3.3187 Validation Metric: 0.4688\n",
      "Loss: 0.4250 Metric: 0.7981\n",
      "Validation Loss: 2.0276 Validation Metric: 0.4533\n",
      "Loss: 0.4121 Metric: 0.7348\n",
      "Validation Loss: 3.1869 Validation Metric: 0.4945\n",
      "Loss: 0.3981 Metric: 0.7936\n",
      "Validation Loss: 2.0368 Validation Metric: 0.5247\n",
      "Loss: 0.4024 Metric: 0.8411\n",
      "Validation Loss: 3.4011 Validation Metric: 0.5556\n",
      "Loss: 0.3984 Metric: 0.7419\n",
      "Validation Loss: 2.4057 Validation Metric: 0.6618\n",
      "Loss: 0.3728 Metric: 0.7488\n",
      "Validation Loss: 5.7562 Validation Metric: 0.5330\n",
      "Loss: 0.3871 Metric: 0.8444\n",
      "Validation Loss: 3.0513 Validation Metric: 0.5284\n",
      "Loss: 0.3955 Metric: 0.8781\n",
      "Validation Loss: 2.2857 Validation Metric: 0.6086\n",
      "Loss: 0.3807 Metric: 0.7852\n",
      "Validation Loss: 3.3960 Validation Metric: 0.5556\n",
      "Finished Training\n"
     ]
    }
   ],
   "source": [
    "for epoch in range(50):  \n",
    "    \n",
    "    net.train()\n",
    "    running_loss = 0.0\n",
    "    running_corrects = 0.0\n",
    "    for i, data in enumerate(train_loader, 0):\n",
    "        # get the inputs\n",
    "        inputs, labels = data\n",
    "\n",
    "        # wrap them in Variable\n",
    "        if (CUDA):\n",
    "            inputs, labels = Variable(inputs.cuda()), Variable(labels.cuda())\n",
    "        else:\n",
    "            inputs, labels = Variable(inputs), Variable(labels)\n",
    "\n",
    "        # zero the parameter gradients\n",
    "        optimizer.zero_grad()\n",
    "\n",
    "        # forward + backward + optimize\n",
    "        outputs = net(inputs)\n",
    "        _, preds = torch.max(outputs.data, 1)\n",
    "        loss = criterion(outputs, labels)\n",
    "       \n",
    "        loss.backward()\n",
    "        optimizer.step()\n",
    "\n",
    "        # statistics\n",
    "        running_loss += loss.data[0] * inputs.size(0)\n",
    "        running_corrects += torch.sum(preds == labels.data)\n",
    "\n",
    "    epoch_loss = running_loss / len(training_set)\n",
    "    #epoch_acc = running_corrects / len(training_set)\n",
    "    metric = calculate_metric(preds,labels.data)\n",
    "    print('Loss: {:.4f} Metric: {:.4f}'.format(epoch_loss, metric))\n",
    "\n",
    "    #VALIDATION\n",
    "    running_loss = 0.0\n",
    "    running_corrects = 0.0\n",
    "    net.eval() #set in the evaluation mode (important for Dropout and Batchnorm)\n",
    "    \n",
    "    for j, val_data in enumerate(validation_loader, 0):\n",
    "        # get the inputs\n",
    "        val_inputs, val_labels = val_data\n",
    "\n",
    "        # wrap them in Variable\n",
    "        if (CUDA):\n",
    "            val_inputs, val_labels = Variable(val_inputs.cuda()), Variable(val_labels.cuda())\n",
    "        else:\n",
    "            val_inputs, val_labels = Variable(val_inputs), Variable(val_labels)\n",
    "\n",
    "        outputs = net(val_inputs)\n",
    "        _, preds = torch.max(outputs.data, 1)\n",
    "        loss = criterion(outputs, val_labels)\n",
    "\n",
    "        # statistics\n",
    "        running_loss += loss.data[0] * val_inputs.size(0)\n",
    "        running_corrects += torch.sum(preds == val_labels.data)\n",
    "\n",
    "    val_epoch_loss = running_loss / len(validation_set)\n",
    "    #val_epoch_acc = running_corrects / len(validation_set)\n",
    "    metric = calculate_metric(preds,val_labels.data)\n",
    "    print('Validation Loss: {:.4f} Validation Metric: {:.4f}'.format(val_epoch_loss, metric))\n",
    "    \n",
    "print('Finished Training')"
   ]
  },
  {
   "cell_type": "code",
   "execution_count": null,
   "metadata": {
    "collapsed": true
   },
   "outputs": [],
   "source": []
  }
 ],
 "metadata": {
  "anaconda-cloud": {},
  "kernelspec": {
   "display_name": "Python [conda root]",
   "language": "python",
   "name": "conda-root-py"
  },
  "language_info": {
   "codemirror_mode": {
    "name": "ipython",
    "version": 3
   },
   "file_extension": ".py",
   "mimetype": "text/x-python",
   "name": "python",
   "nbconvert_exporter": "python",
   "pygments_lexer": "ipython3",
   "version": "3.5.2"
  }
 },
 "nbformat": 4,
 "nbformat_minor": 1
}
