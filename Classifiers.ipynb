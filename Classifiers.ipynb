{
 "cells": [
  {
   "cell_type": "code",
   "execution_count": 1,
   "metadata": {
    "collapsed": true
   },
   "outputs": [],
   "source": [
    "import torch\n",
    "import torch.nn as nn\n",
    "import torch.nn.functional as F\n",
    "import torch.optim as optim\n",
    "from torch.autograd import Variable\n",
    "from torchvision.datasets import ImageFolder\n",
    "from torch.utils.data import DataLoader\n",
    "from torchvision.utils import save_image\n",
    "from torchvision import transforms, models, datasets\n",
    "import torchvision\n",
    "import numpy as np\n",
    "import h5py\n",
    "from matplotlib import pyplot as plt\n",
    "from skimage.transform import resize\n",
    "from Utils import save_large_dataset, load_large_dataset, calculate_metric\n",
    "plt.ion()   # interactive mode"
   ]
  },
  {
   "cell_type": "code",
   "execution_count": 2,
   "metadata": {
    "collapsed": true
   },
   "outputs": [],
   "source": [
    "CUDA = True"
   ]
  },
  {
   "cell_type": "code",
   "execution_count": 3,
   "metadata": {
    "collapsed": true
   },
   "outputs": [],
   "source": [
    "X = load_large_dataset('images')\n",
    "Y = load_large_dataset('labels')"
   ]
  },
  {
   "cell_type": "code",
   "execution_count": 4,
   "metadata": {
    "collapsed": true
   },
   "outputs": [],
   "source": [
    "X = X.squeeze() #remove unnecessary dimension\n",
    "Y = Y.squeeze()"
   ]
  },
  {
   "cell_type": "code",
   "execution_count": null,
   "metadata": {
    "collapsed": false
   },
   "outputs": [],
   "source": [
    "fig = plt.figure(figsize=(4,4))\n",
    "my_slice = X[1005,:,90,:]\n",
    "plt.imshow(my_slice, cmap=\"Greys\")"
   ]
  },
  {
   "cell_type": "code",
   "execution_count": 5,
   "metadata": {
    "collapsed": false
   },
   "outputs": [
    {
     "name": "stdout",
     "output_type": "stream",
     "text": [
      "(1792, 3, 145, 121)\n",
      "(1792,)\n"
     ]
    }
   ],
   "source": [
    "X = X.squeeze() #remove unnecessary dimension\n",
    "Y = Y.squeeze()\n",
    "\n",
    "X = X[:,56:59,:,:] #take only 3 slices and treat them as channels\n",
    "#X = X[:,:,90:93,:] #take only 3 slices and treat them as channels\n",
    "\n",
    "print (X.shape)\n",
    "print (Y.shape)"
   ]
  },
  {
   "cell_type": "code",
   "execution_count": 6,
   "metadata": {
    "collapsed": false
   },
   "outputs": [],
   "source": [
    "X_padded = np.pad(X,((0,0),(0,0),(40,39),(51,52)), 'constant') #pad with zeros to get 224x224 dimension of images\n",
    "X = X_padded\n",
    "X = np.float32(X)"
   ]
  },
  {
   "cell_type": "code",
   "execution_count": 7,
   "metadata": {
    "collapsed": false
   },
   "outputs": [
    {
     "name": "stdout",
     "output_type": "stream",
     "text": [
      "(1792, 3, 224, 224)\n"
     ]
    }
   ],
   "source": [
    "X = np.rollaxis(X, 3, 2) #move channel dimension to be the first one\n",
    "print (X.shape)"
   ]
  },
  {
   "cell_type": "code",
   "execution_count": 8,
   "metadata": {
    "collapsed": true
   },
   "outputs": [],
   "source": [
    "np.random.seed(8) #seed fixed for reproducibility\n",
    "mask = np.random.rand(len(X)) < 0.9  #array of boolean variables\n",
    "\n",
    "training_set = X[mask]\n",
    "training_labels = Y[mask]\n",
    "\n",
    "validation_set = X[~mask]\n",
    "validation_labels = Y[~mask]"
   ]
  },
  {
   "cell_type": "code",
   "execution_count": 9,
   "metadata": {
    "collapsed": true
   },
   "outputs": [],
   "source": [
    "BATCH_SIZE = 32"
   ]
  },
  {
   "cell_type": "code",
   "execution_count": 10,
   "metadata": {
    "collapsed": true
   },
   "outputs": [],
   "source": [
    "training_set = torch.from_numpy(training_set) #convert to torch tensor\n",
    "training_labels = torch.from_numpy(training_labels) #convert to torch tensor"
   ]
  },
  {
   "cell_type": "code",
   "execution_count": 11,
   "metadata": {
    "collapsed": false
   },
   "outputs": [],
   "source": [
    "validation_set = torch.from_numpy(validation_set) #convert to torch tensor\n",
    "validation_labels = torch.from_numpy(validation_labels) #convert to torch tensor"
   ]
  },
  {
   "cell_type": "code",
   "execution_count": 12,
   "metadata": {
    "collapsed": true
   },
   "outputs": [],
   "source": [
    "training_labels = training_labels.long()"
   ]
  },
  {
   "cell_type": "code",
   "execution_count": 13,
   "metadata": {
    "collapsed": true
   },
   "outputs": [],
   "source": [
    "validation_labels = validation_labels.long()"
   ]
  },
  {
   "cell_type": "code",
   "execution_count": 14,
   "metadata": {
    "collapsed": false
   },
   "outputs": [
    {
     "name": "stdout",
     "output_type": "stream",
     "text": [
      "torch.Size([1624])\n",
      "torch.Size([168])\n"
     ]
    }
   ],
   "source": [
    "print (training_labels.shape)\n",
    "print (validation_labels.shape)"
   ]
  },
  {
   "cell_type": "code",
   "execution_count": 15,
   "metadata": {
    "collapsed": true
   },
   "outputs": [],
   "source": [
    "dataset = torch.utils.data.TensorDataset(training_set, training_labels)\n",
    "train_loader = DataLoader(dataset, batch_size=BATCH_SIZE, shuffle=True)"
   ]
  },
  {
   "cell_type": "code",
   "execution_count": 16,
   "metadata": {
    "collapsed": true
   },
   "outputs": [],
   "source": [
    "val_set = torch.utils.data.TensorDataset(validation_set, validation_labels)\n",
    "validation_loader = DataLoader(val_set, batch_size=BATCH_SIZE, shuffle=True)"
   ]
  },
  {
   "cell_type": "markdown",
   "metadata": {},
   "source": [
    "# Model definition\n"
   ]
  },
  {
   "cell_type": "code",
   "execution_count": 17,
   "metadata": {
    "collapsed": false
   },
   "outputs": [],
   "source": [
    "# RESNET_18 model, with pretrained weights and fine-tuned to 2 classes\n",
    "#net = models.resnet18(pretrained=True)\n",
    "#num_ftrs = net.fc.in_features\n",
    "#net.fc = nn.Linear(num_ftrs, 2)\n",
    "\n",
    "# VGG_11 model with pretrained weights and fine-tuned to 2 classes\n",
    "net = models.vgg11_bn(pretrained=True)\n",
    "net.classifier._modules['6'] = nn.Linear(4096, 2)\n",
    "\n",
    "criterion = nn.CrossEntropyLoss()"
   ]
  },
  {
   "cell_type": "code",
   "execution_count": 18,
   "metadata": {
    "collapsed": false
   },
   "outputs": [],
   "source": [
    "if (CUDA):\n",
    "    net.cuda()"
   ]
  },
  {
   "cell_type": "code",
   "execution_count": 19,
   "metadata": {
    "collapsed": true
   },
   "outputs": [],
   "source": [
    "optimizer = optim.Adam(net.parameters(), lr=0.0001, weight_decay=1e-3)"
   ]
  },
  {
   "cell_type": "markdown",
   "metadata": {},
   "source": [
    "# Training"
   ]
  },
  {
   "cell_type": "code",
   "execution_count": 20,
   "metadata": {
    "collapsed": false
   },
   "outputs": [
    {
     "name": "stdout",
     "output_type": "stream",
     "text": [
      "Loss: 0.6716 Metric: 0.5626\n",
      "Validation Loss: 0.7004 Validation Metric: 0.5302\n",
      "Loss: 0.6381 Metric: 0.6201\n",
      "Validation Loss: 0.7039 Validation Metric: 0.5190\n",
      "Loss: 0.5422 Metric: 0.7170\n",
      "Validation Loss: 0.8451 Validation Metric: 0.5321\n",
      "Loss: 0.3983 Metric: 0.8165\n",
      "Validation Loss: 0.9632 Validation Metric: 0.5656\n",
      "Loss: 0.2186 Metric: 0.9178\n",
      "Validation Loss: 1.4337 Validation Metric: 0.5405\n",
      "Loss: 0.1125 Metric: 0.9666\n",
      "Validation Loss: 1.8605 Validation Metric: 0.4964\n",
      "Loss: 0.1049 Metric: 0.9650\n",
      "Validation Loss: 1.6741 Validation Metric: 0.5515\n",
      "Loss: 0.0907 Metric: 0.9693\n",
      "Validation Loss: 2.2463 Validation Metric: 0.4774\n",
      "Loss: 0.0527 Metric: 0.9800\n",
      "Validation Loss: 2.3506 Validation Metric: 0.5204\n",
      "Loss: 0.0738 Metric: 0.9742\n",
      "Validation Loss: 1.9342 Validation Metric: 0.5113\n",
      "Finished Training\n"
     ]
    }
   ],
   "source": [
    "for epoch in range(10):  \n",
    "    \n",
    "    net.train()\n",
    "    running_loss = 0.0\n",
    "    metric_sum = 0.0\n",
    "   \n",
    "    for i, data in enumerate(train_loader, 0):\n",
    "        # get the inputs\n",
    "        inputs, labels = data\n",
    "\n",
    "        # wrap them in Variable\n",
    "        if (CUDA):\n",
    "            inputs, labels = Variable(inputs.cuda()), Variable(labels.cuda())\n",
    "        else:\n",
    "            inputs, labels = Variable(inputs), Variable(labels)\n",
    "\n",
    "        # zero the parameter gradients\n",
    "        optimizer.zero_grad()\n",
    "\n",
    "        # forward + backward + optimize\n",
    "        outputs = net(inputs)\n",
    "        _, preds = torch.max(outputs.data, 1)\n",
    "        loss = criterion(outputs, labels)\n",
    "       \n",
    "        loss.backward()\n",
    "        optimizer.step()\n",
    "\n",
    "        # statistics\n",
    "        running_loss += loss.data[0] * inputs.size(0)\n",
    "        metric_sum += calculate_metric(preds,labels.data) * inputs.size(0)\n",
    "\n",
    "    epoch_loss = running_loss / len(training_set)\n",
    "    metric = metric_sum / len(training_set)\n",
    "    print('Loss: {:.4f} Metric: {:.4f}'.format(epoch_loss, metric))\n",
    "\n",
    "    #VALIDATION\n",
    "    running_loss = 0.0\n",
    "    metric_sum = 0.0\n",
    "    net.eval() #set in the evaluation mode (important for Dropout and Batchnorm)\n",
    "    \n",
    "    for j, val_data in enumerate(validation_loader, 0):\n",
    "        # get the inputs\n",
    "        val_inputs, val_labels = val_data\n",
    "\n",
    "        # wrap them in Variable\n",
    "        if (CUDA):\n",
    "            val_inputs, val_labels = Variable(val_inputs.cuda()), Variable(val_labels.cuda())\n",
    "        else:\n",
    "            val_inputs, val_labels = Variable(val_inputs), Variable(val_labels)\n",
    "\n",
    "        outputs = net(val_inputs)\n",
    "        _, preds = torch.max(outputs.data, 1)\n",
    "        loss = criterion(outputs, val_labels)\n",
    "\n",
    "        # statistics\n",
    "        running_loss += loss.data[0] * val_inputs.size(0)\n",
    "        metric_sum += calculate_metric(preds,val_labels.data) * val_inputs.size(0)\n",
    "\n",
    "    val_epoch_loss = running_loss / len(validation_set)\n",
    "    val_metric = metric_sum / len(validation_set)\n",
    "    print('Validation Loss: {:.4f} Validation Metric: {:.4f}'.format(val_epoch_loss, val_metric))\n",
    "    \n",
    "print('Finished Training')"
   ]
  },
  {
   "cell_type": "markdown",
   "metadata": {
    "collapsed": true
   },
   "source": [
    "# Traininig on augmented set"
   ]
  },
  {
   "cell_type": "code",
   "execution_count": 21,
   "metadata": {
    "collapsed": true
   },
   "outputs": [],
   "source": [
    "X = load_large_dataset('new_augmented_train_set')\n",
    "Y = load_large_dataset('new_augmented_train_set_labels')"
   ]
  },
  {
   "cell_type": "code",
   "execution_count": 22,
   "metadata": {
    "collapsed": false
   },
   "outputs": [
    {
     "name": "stdout",
     "output_type": "stream",
     "text": [
      "(8120, 3, 121, 145)\n",
      "(8120,)\n"
     ]
    }
   ],
   "source": [
    "print (X.shape)\n",
    "print (Y.shape)"
   ]
  },
  {
   "cell_type": "code",
   "execution_count": 23,
   "metadata": {
    "collapsed": true
   },
   "outputs": [],
   "source": [
    "X_padded = np.pad(X,((0,0),(0,0),(51,52),(40,39)), 'constant') #pad with zeros to get 224x224 dimension of images\n",
    "X = X_padded\n",
    "X = np.float32(X)"
   ]
  },
  {
   "cell_type": "code",
   "execution_count": 24,
   "metadata": {
    "collapsed": true
   },
   "outputs": [],
   "source": [
    "training_set = torch.from_numpy(X) #convert to torch tensor\n",
    "training_labels = torch.from_numpy(Y) #convert to torch tensor"
   ]
  },
  {
   "cell_type": "code",
   "execution_count": 25,
   "metadata": {
    "collapsed": true
   },
   "outputs": [],
   "source": [
    "training_labels = training_labels.long()"
   ]
  },
  {
   "cell_type": "code",
   "execution_count": 26,
   "metadata": {
    "collapsed": true
   },
   "outputs": [],
   "source": [
    "dataset = torch.utils.data.TensorDataset(training_set, training_labels)\n",
    "train_loader = DataLoader(dataset, batch_size=BATCH_SIZE, shuffle=True)"
   ]
  },
  {
   "cell_type": "markdown",
   "metadata": {},
   "source": [
    "# Model definition"
   ]
  },
  {
   "cell_type": "code",
   "execution_count": 27,
   "metadata": {
    "collapsed": true
   },
   "outputs": [],
   "source": [
    "# RESNET_18 model, with pretrained weights and fine-tuned to 2 classes\n",
    "#net = models.resnet18(pretrained=True)\n",
    "#num_ftrs = net.fc.in_features\n",
    "#net.fc = nn.Linear(num_ftrs, 2)\n",
    "\n",
    "# VGG_11 model with pretrained weights and fine-tuned to 2 classes\n",
    "net = models.vgg11_bn(pretrained=True)\n",
    "net.classifier._modules['6'] = nn.Linear(4096, 2)\n",
    "\n",
    "criterion = nn.CrossEntropyLoss()"
   ]
  },
  {
   "cell_type": "code",
   "execution_count": 28,
   "metadata": {
    "collapsed": true
   },
   "outputs": [],
   "source": [
    "if (CUDA):\n",
    "    net.cuda()"
   ]
  },
  {
   "cell_type": "code",
   "execution_count": 29,
   "metadata": {
    "collapsed": true
   },
   "outputs": [],
   "source": [
    "optimizer = optim.Adam(net.parameters(), lr=0.0001, weight_decay=1e-3)"
   ]
  },
  {
   "cell_type": "code",
   "execution_count": 30,
   "metadata": {
    "collapsed": false
   },
   "outputs": [
    {
     "name": "stdout",
     "output_type": "stream",
     "text": [
      "Loss: 0.6537 Metric: 0.6044\n",
      "Validation Loss: 0.6697 Validation Metric: 0.4961\n",
      "Loss: 0.6442 Metric: 0.6127\n",
      "Validation Loss: 0.7085 Validation Metric: 0.5073\n",
      "Loss: 0.6411 Metric: 0.6170\n",
      "Validation Loss: 0.7053 Validation Metric: 0.5157\n",
      "Loss: 0.6420 Metric: 0.6169\n",
      "Validation Loss: 0.6934 Validation Metric: 0.5360\n",
      "Loss: 0.6439 Metric: 0.6232\n",
      "Validation Loss: 0.7442 Validation Metric: 0.4861\n",
      "Loss: 0.6405 Metric: 0.6222\n",
      "Validation Loss: 0.6966 Validation Metric: 0.4823\n",
      "Loss: 0.6382 Metric: 0.6177\n",
      "Validation Loss: 1.4280 Validation Metric: 0.5000\n",
      "Loss: 0.6375 Metric: 0.6251\n",
      "Validation Loss: 0.6919 Validation Metric: 0.5107\n",
      "Loss: 0.6370 Metric: 0.6218\n",
      "Validation Loss: 0.7447 Validation Metric: 0.4807\n",
      "Loss: 0.6385 Metric: 0.6138\n",
      "Validation Loss: 0.7008 Validation Metric: 0.4850\n",
      "Finished Training\n"
     ]
    }
   ],
   "source": [
    "for epoch in range(10):  \n",
    "    \n",
    "    net.train()\n",
    "    running_loss = 0.0\n",
    "    metric_sum = 0.0\n",
    "   \n",
    "    for i, data in enumerate(train_loader, 0):\n",
    "        # get the inputs\n",
    "        inputs, labels = data\n",
    "\n",
    "        # wrap them in Variable\n",
    "        if (CUDA):\n",
    "            inputs, labels = Variable(inputs.cuda()), Variable(labels.cuda())\n",
    "        else:\n",
    "            inputs, labels = Variable(inputs), Variable(labels)\n",
    "\n",
    "        # zero the parameter gradients\n",
    "        optimizer.zero_grad()\n",
    "\n",
    "        # forward + backward + optimize\n",
    "        outputs = net(inputs)\n",
    "        _, preds = torch.max(outputs.data, 1)\n",
    "        loss = criterion(outputs, labels)\n",
    "       \n",
    "        loss.backward()\n",
    "        optimizer.step()\n",
    "\n",
    "        # statistics\n",
    "        running_loss += loss.data[0] * inputs.size(0)\n",
    "        metric_sum += calculate_metric(preds,labels.data) * inputs.size(0)\n",
    "\n",
    "    epoch_loss = running_loss / len(training_set)\n",
    "    metric = metric_sum / len(training_set)\n",
    "    print('Loss: {:.4f} Metric: {:.4f}'.format(epoch_loss, metric))\n",
    "\n",
    "    #VALIDATION\n",
    "    running_loss = 0.0\n",
    "    metric_sum = 0.0\n",
    "    net.eval() #set in the evaluation mode (important for Dropout and Batchnorm)\n",
    "    \n",
    "    for j, val_data in enumerate(validation_loader, 0):\n",
    "        # get the inputs\n",
    "        val_inputs, val_labels = val_data\n",
    "\n",
    "        # wrap them in Variable\n",
    "        if (CUDA):\n",
    "            val_inputs, val_labels = Variable(val_inputs.cuda()), Variable(val_labels.cuda())\n",
    "        else:\n",
    "            val_inputs, val_labels = Variable(val_inputs), Variable(val_labels)\n",
    "\n",
    "        outputs = net(val_inputs)\n",
    "        _, preds = torch.max(outputs.data, 1)\n",
    "        loss = criterion(outputs, val_labels)\n",
    "\n",
    "        # statistics\n",
    "        running_loss += loss.data[0] * val_inputs.size(0)\n",
    "        metric_sum += calculate_metric(preds,val_labels.data) * val_inputs.size(0)\n",
    "\n",
    "    val_epoch_loss = running_loss / len(validation_set)\n",
    "    val_metric = metric_sum / len(validation_set)\n",
    "    print('Validation Loss: {:.4f} Validation Metric: {:.4f}'.format(val_epoch_loss, val_metric))\n",
    "    \n",
    "print('Finished Training')"
   ]
  },
  {
   "cell_type": "markdown",
   "metadata": {
    "collapsed": true
   },
   "source": [
    "With augmented data set convergence is slower for training set, unfortunately it does not help for generalization as metrics for the validation set do not improve."
   ]
  }
 ],
 "metadata": {
  "anaconda-cloud": {},
  "kernelspec": {
   "display_name": "Python [conda root]",
   "language": "python",
   "name": "conda-root-py"
  },
  "language_info": {
   "codemirror_mode": {
    "name": "ipython",
    "version": 3
   },
   "file_extension": ".py",
   "mimetype": "text/x-python",
   "name": "python",
   "nbconvert_exporter": "python",
   "pygments_lexer": "ipython3",
   "version": "3.5.2"
  }
 },
 "nbformat": 4,
 "nbformat_minor": 1
}
